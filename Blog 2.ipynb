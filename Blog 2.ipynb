{
 "cells": [
  {
   "cell_type": "code",
   "execution_count": 1,
   "metadata": {
    "collapsed": true
   },
   "outputs": [],
   "source": [
    "# Imports\n",
    "import collections\n",
    "import itertools\n",
    "import math\n",
    "\n",
    "import numpy as np\n",
    "import numba\n",
    "import pandas as pd\n",
    "import scipy.stats as st\n",
    "import requests\n",
    "\n",
    "import matplotlib.pyplot as plt\n",
    "import seaborn as sns\n",
    "\n",
    "from pprint import pprint\n",
    "from datetime import datetime as dt\n",
    "rc={'lines.linewidth': 2, 'axes.labelsize': 14, 'axes.titlesize': 18}\n",
    "sns.set(rc=rc)\n",
    "%matplotlib inline"
   ]
  },
  {
   "cell_type": "markdown",
   "metadata": {},
   "source": [
    "# Shubhi Does Data: Are 1-0 wins really the mark of a champion?"
   ]
  },
  {
   "cell_type": "markdown",
   "metadata": {},
   "source": [
    "### The Premise\n",
    "There's a really common saying, \"*1-0 wins* show strength and determination of a winning football team.\" The latest appearance was in an [ESPN FC article](http://www.espnfc.us/english-premier-league/23/blog/post/3025212/a-string-of-1-0-wins-is-a-hallmark-of-a-champion-and-chelsea-have-several). But is this really the case? Can we back this up with some [data](https://github.com/footballcsv)? This specific article even mentions that statistics don't show much correlation between champions and the number of *1-0 wins*. It's time to get a better understanding of this.\n",
    "\n",
    "### The Approach\n",
    "**Data Source:** We're going to look at 20 seasons of data (1993-2013) across the top five leagues during this time (EPL, La Liga, Bundesliga, Serie A, and Ligue 1).\n",
    "\n",
    "**Methods:**"
   ]
  },
  {
   "cell_type": "code",
   "execution_count": 2,
   "metadata": {
    "collapsed": true
   },
   "outputs": [],
   "source": [
    "# Data import variables and helper functions\n",
    "SOURCES = {'england': 'data/eng-england-master/', 'spain': 'data/es-espana-master/', \n",
    "           'germany': 'data/de-deutschland-master/', 'italy': 'data/it-italy-master/',\n",
    "           'france': 'data/fr-france-master/'}\n",
    "LEAGUE_NAME = {'england': '/1-premierleague.csv', 'spain': '/1-liga.csv',\n",
    "               'germany': '/1-bundesliga.csv', 'italy': '/1-seriea.csv',\n",
    "               'france': '/1-ligue1.csv'}\n",
    "\n",
    "def get_file_src(season, country):\n",
    "    '''\n",
    "    Input: Season we're looking at the file source for, and country we're looking at.\n",
    "    Output: File source of input season\n",
    "    This helper function returns the file source for the given league results csv.\n",
    "    '''\n",
    "    # If we're looking for an England or Germany season, the file source is different\n",
    "    if country in ['england', 'germany']:\n",
    "        decade_folder = str(int(int(season) / 10) * 10) + 's'\n",
    "        season_folder = season + '-' + \"%02d\" % ((int(season) + 1) % 100,) \n",
    "        # England's top league wasn't called Premier League until the 1993 season\n",
    "        if country == 'england' and int(season) < 1992:\n",
    "            return SOURCES[country] + decade_folder + '/' + season_folder + '/1-division1.csv'\n",
    "        return SOURCES[country] + decade_folder + '/' + season_folder + LEAGUE_NAME[country]\n",
    "    # Spain, Italy, or France\n",
    "    else:\n",
    "        season_folder = season + '-' + \"%02d\" % ((int(season) + 1) % 100,)\n",
    "        # France's top league wasn't called Ligue 1 until the 2002 season\n",
    "        if country == 'france' and int(season) < 2002:\n",
    "            return SOURCES[country] + season_folder + '/1-division1.csv'\n",
    "        return SOURCES[country] + season_folder + LEAGUE_NAME[country]\n",
    "\n",
    "def get_data_frame(season, country):\n",
    "    '''\n",
    "    Input: Season we're looking at the file source for, and country we're looking at.\n",
    "    Output: Pandas DataFrame with the results of a given league for a given season.\n",
    "    '''\n",
    "    source = get_file_src(season, country)\n",
    "    # Germany has the round column in its data\n",
    "    if country == 'germany' or int(season) < 1993:\n",
    "        names = ['Round', 'Date', 'Home', 'Away', 'FT', 'HT']\n",
    "        idx = 1\n",
    "    else:\n",
    "        names = ['Date', 'Home', 'Away', 'FT', 'HT']\n",
    "        idx = 0\n",
    "    if int(season) > 1992:\n",
    "        df = pd.read_csv(source, engine='c', header=0, names=names,\n",
    "                         converters={\n",
    "                             idx: lambda x: dt.strptime(x, '%Y-%m-%d').date()\n",
    "                         },\n",
    "                         na_filter=False,\n",
    "                         low_memory=False)\n",
    "    else:\n",
    "        df = pd.read_csv(source, engine='c', header=0, names=names,\n",
    "                         na_filter=False,\n",
    "                         low_memory=False)\n",
    "    return df"
   ]
  },
  {
   "cell_type": "code",
   "execution_count": 3,
   "metadata": {
    "collapsed": false
   },
   "outputs": [],
   "source": [
    "# File Imports (they're a different file structure)\n",
    "data = {country: {year: get_data_frame(str(year), country) for year in range(1993, 2014)} for country in SOURCES}"
   ]
  },
  {
   "cell_type": "markdown",
   "metadata": {},
   "source": [
    "Now, this `data` variable is a multi-level dictionary where the keys are country and season and the value is a pandas DataFrame of results for that season, for that specific league.\n",
    "\n",
    "Here's an example of such a DataFrame for the EPL in 2013."
   ]
  },
  {
   "cell_type": "code",
   "execution_count": 4,
   "metadata": {
    "collapsed": false
   },
   "outputs": [
    {
     "data": {
      "text/html": [
       "<div>\n",
       "<table border=\"1\" class=\"dataframe\">\n",
       "  <thead>\n",
       "    <tr style=\"text-align: right;\">\n",
       "      <th></th>\n",
       "      <th>Date</th>\n",
       "      <th>Home</th>\n",
       "      <th>Away</th>\n",
       "      <th>FT</th>\n",
       "      <th>HT</th>\n",
       "    </tr>\n",
       "  </thead>\n",
       "  <tbody>\n",
       "    <tr>\n",
       "      <th>0</th>\n",
       "      <td>2013-08-17</td>\n",
       "      <td>Arsenal</td>\n",
       "      <td>Aston Villa</td>\n",
       "      <td>1-3</td>\n",
       "      <td>1-1</td>\n",
       "    </tr>\n",
       "    <tr>\n",
       "      <th>1</th>\n",
       "      <td>2013-08-17</td>\n",
       "      <td>Liverpool</td>\n",
       "      <td>Stoke</td>\n",
       "      <td>1-0</td>\n",
       "      <td>1-0</td>\n",
       "    </tr>\n",
       "    <tr>\n",
       "      <th>2</th>\n",
       "      <td>2013-08-17</td>\n",
       "      <td>Norwich</td>\n",
       "      <td>Everton</td>\n",
       "      <td>2-2</td>\n",
       "      <td>0-0</td>\n",
       "    </tr>\n",
       "    <tr>\n",
       "      <th>3</th>\n",
       "      <td>2013-08-17</td>\n",
       "      <td>Sunderland</td>\n",
       "      <td>Fulham</td>\n",
       "      <td>0-1</td>\n",
       "      <td>0-0</td>\n",
       "    </tr>\n",
       "    <tr>\n",
       "      <th>4</th>\n",
       "      <td>2013-08-17</td>\n",
       "      <td>Swansea</td>\n",
       "      <td>Man United</td>\n",
       "      <td>1-4</td>\n",
       "      <td>0-2</td>\n",
       "    </tr>\n",
       "  </tbody>\n",
       "</table>\n",
       "</div>"
      ],
      "text/plain": [
       "         Date        Home         Away   FT   HT\n",
       "0  2013-08-17     Arsenal  Aston Villa  1-3  1-1\n",
       "1  2013-08-17   Liverpool        Stoke  1-0  1-0\n",
       "2  2013-08-17     Norwich      Everton  2-2  0-0\n",
       "3  2013-08-17  Sunderland       Fulham  0-1  0-0\n",
       "4  2013-08-17     Swansea   Man United  1-4  0-2"
      ]
     },
     "execution_count": 4,
     "metadata": {},
     "output_type": "execute_result"
    }
   ],
   "source": [
    "data['england'][2013].head()"
   ]
  },
  {
   "cell_type": "markdown",
   "metadata": {},
   "source": [
    "This looks pretty good.\n",
    "\n",
    "We'll now write helper functions to determine the the number of *1-0 wins* each team has, as well as the final standing at the end of the season."
   ]
  },
  {
   "cell_type": "code",
   "execution_count": 5,
   "metadata": {
    "collapsed": false
   },
   "outputs": [],
   "source": [
    "def final_points(df):\n",
    "    '''\n",
    "    Input: DataFrame for the results of a given season.\n",
    "    Output: 2 dictionaries [Season, Team, Final Points, # of 1-0 Wins]\n",
    "    '''\n",
    "    points = {}\n",
    "    one_zero_wins = {}\n",
    "    for index, row in df.iterrows():\n",
    "        home, away = row['Home'], row['Away']\n",
    "        home_score, away_score = map(int, row['FT'].split('-'))\n",
    "        # Tie\n",
    "        if home_score == away_score:\n",
    "            home_points, away_points = 1, 1\n",
    "        # Home Win\n",
    "        elif home_score > away_score:\n",
    "            home_points, away_points = 3, 0\n",
    "        # Away Win\n",
    "        elif home_score < away_score:\n",
    "            home_points, away_points = 0, 3\n",
    "        # Update points\n",
    "        if home in points:\n",
    "            points[home] += home_points\n",
    "        else:\n",
    "            points[home] = home_points\n",
    "        if away in points:\n",
    "            points[away] += away_points\n",
    "        else:\n",
    "            points[away] = away_points\n",
    "        # Update 1-0 wins\n",
    "        home_1_0_wins, away_1_0_wins = 0, 0\n",
    "        if home_score == 1 and away_score == 0:\n",
    "            home_1_0_wins, away_1_0_wins = 1, 0\n",
    "        elif home_score == 0 and away_score == 1:\n",
    "            home_1_0_wins, away_1_0_wins = 0, 1\n",
    "        if home in one_zero_wins:\n",
    "            one_zero_wins[home] += home_1_0_wins\n",
    "        else:\n",
    "            one_zero_wins[home] = home_1_0_wins\n",
    "        if away in one_zero_wins:\n",
    "            one_zero_wins[away] += away_1_0_wins\n",
    "        else:\n",
    "            one_zero_wins[away] = away_1_0_wins\n",
    "    return points, one_zero_wins\n",
    "\n",
    "def sort_standings(points):\n",
    "    '''\n",
    "    This helper function takes a dictionary of point values, and returns the final standings of the season.\n",
    "    '''\n",
    "    points = points.items()\n",
    "    standings = sorted(points, key=lambda x:x[1], reverse=True)\n",
    "    return {standings[idx][0]: idx + 1 for idx in range(len(standings))}\n",
    "\n",
    "def combine_data_df(data):\n",
    "    '''\n",
    "    Combine all of the data available to us into a nice and tidy DataFrame\n",
    "    '''\n",
    "    cols = ['League', 'Season', 'Team', 'Points', 'Standing', '1-0 Wins']\n",
    "    df = pd.DataFrame(columns=cols)\n",
    "    # For each country\n",
    "    for country, seasons in data.iteritems():\n",
    "        # For each season\n",
    "        for season, results in seasons.iteritems():\n",
    "            # Get the points and number of one_zero wins each team had per season\n",
    "            points, one_zero_wins = final_points(results)\n",
    "            # Also get the resultant standings\n",
    "            standings = sort_standings(points)\n",
    "            # Append each row to the overall DataFrame\n",
    "            for team in points:\n",
    "                df = df.append(pd.DataFrame(np.array([[country, season, team, points[team], \n",
    "                                       standings[team], one_zero_wins[team]]]),\n",
    "                                       columns=cols),\n",
    "                               ignore_index=True)\n",
    "    df[['Season', 'Points', 'Standing', '1-0 Wins']] = df[['Season', 'Points', 'Standing', '1-0 Wins']].apply(pd.to_numeric)\n",
    "    return df"
   ]
  },
  {
   "cell_type": "code",
   "execution_count": 6,
   "metadata": {
    "collapsed": false
   },
   "outputs": [
    {
     "data": {
      "text/html": [
       "<div>\n",
       "<table border=\"1\" class=\"dataframe\">\n",
       "  <thead>\n",
       "    <tr style=\"text-align: right;\">\n",
       "      <th></th>\n",
       "      <th>League</th>\n",
       "      <th>Season</th>\n",
       "      <th>Team</th>\n",
       "      <th>Points</th>\n",
       "      <th>Standing</th>\n",
       "      <th>1-0 Wins</th>\n",
       "    </tr>\n",
       "  </thead>\n",
       "  <tbody>\n",
       "    <tr>\n",
       "      <th>0</th>\n",
       "      <td>italy</td>\n",
       "      <td>1993</td>\n",
       "      <td>Udinese</td>\n",
       "      <td>35</td>\n",
       "      <td>16</td>\n",
       "      <td>1</td>\n",
       "    </tr>\n",
       "    <tr>\n",
       "      <th>1</th>\n",
       "      <td>italy</td>\n",
       "      <td>1993</td>\n",
       "      <td>Genoa</td>\n",
       "      <td>40</td>\n",
       "      <td>14</td>\n",
       "      <td>2</td>\n",
       "    </tr>\n",
       "    <tr>\n",
       "      <th>2</th>\n",
       "      <td>italy</td>\n",
       "      <td>1993</td>\n",
       "      <td>Napoli</td>\n",
       "      <td>48</td>\n",
       "      <td>6</td>\n",
       "      <td>3</td>\n",
       "    </tr>\n",
       "    <tr>\n",
       "      <th>3</th>\n",
       "      <td>italy</td>\n",
       "      <td>1993</td>\n",
       "      <td>Lazio</td>\n",
       "      <td>61</td>\n",
       "      <td>4</td>\n",
       "      <td>2</td>\n",
       "    </tr>\n",
       "    <tr>\n",
       "      <th>4</th>\n",
       "      <td>italy</td>\n",
       "      <td>1993</td>\n",
       "      <td>Lecce</td>\n",
       "      <td>14</td>\n",
       "      <td>18</td>\n",
       "      <td>1</td>\n",
       "    </tr>\n",
       "  </tbody>\n",
       "</table>\n",
       "</div>"
      ],
      "text/plain": [
       "  League  Season     Team  Points  Standing  1-0 Wins\n",
       "0  italy    1993  Udinese      35        16         1\n",
       "1  italy    1993    Genoa      40        14         2\n",
       "2  italy    1993   Napoli      48         6         3\n",
       "3  italy    1993    Lazio      61         4         2\n",
       "4  italy    1993    Lecce      14        18         1"
      ]
     },
     "execution_count": 6,
     "metadata": {},
     "output_type": "execute_result"
    }
   ],
   "source": [
    "# Let's run it now!\n",
    "df = combine_data_df(data)\n",
    "df.head()"
   ]
  },
  {
   "cell_type": "markdown",
   "metadata": {},
   "source": [
    "Now, let's do the easy thing: is there a correlation between `Points` and `1-0 Wins`?"
   ]
  },
  {
   "cell_type": "code",
   "execution_count": 7,
   "metadata": {
    "collapsed": false
   },
   "outputs": [
    {
     "name": "stdout",
     "output_type": "stream",
     "text": [
      "Correlation Value between Points and # of 1-0 Wins:\t0.42\n",
      "Correlation Value between Standing and # of 1-0 Wins:\t-0.35\n",
      "Correlation Value between Standing and Points:\t\t-0.90\n"
     ]
    }
   ],
   "source": [
    "points_wins_corr = df['Points'].corr(df['1-0 Wins'])\n",
    "standing_wins_corr = df['Standing'].corr(df['1-0 Wins'])\n",
    "standing_points_corr = df['Standing'].corr(df['Points'])\n",
    "print('Correlation Value between Points and # of 1-0 Wins:\\t%.2f' % points_wins_corr)\n",
    "print('Correlation Value between Standing and # of 1-0 Wins:\\t%.2f' % standing_wins_corr)\n",
    "print('Correlation Value between Standing and Points:\\t\\t%.2f' % standing_points_corr)"
   ]
  },
  {
   "cell_type": "markdown",
   "metadata": {},
   "source": [
    "The three correlation values tell us both some pretty interesting, revealing information, as well as some very obvious information at the same time. Let's focus on one at a time.\n",
    "\n",
    "**Correlation between Points and # of *1-0 Wins***<br>\n",
    "This is a moderately strong 0.42. In other words, there seems to be a slight relationship between the number of points a team has, and the number of *1-0 wins* they achieve. But wait, isn't that obvious? Teams need wins in order to get points, whether they're *1-0 wins* or not. In other words, this correlation value is pretty meaningless. We need a better way to look at the relationship.\n",
    "\n",
    "**Correlation between Standing and # of *1-0 Wins***<br>\n",
    "This is again a moderately strong 0.35. Yet, similar to the previous correlation value, this is not truly answering the question we're looking at. We're mostly interested in *1-0 wins* vs. other types of wins, or how often champions tend to churn out *1-0 wins*. We'll take a look at that in the next section, with a neat bar graph.\n",
    "\n",
    "**Correlation between Standing and Points**<br>\n",
    "This was an obvious one, and was more of a sanity check. The more points a team has, the higher it is in the league table, having an overall lower value rank (lesser value). Glad to see that we have a very strong correlation there."
   ]
  },
  {
   "cell_type": "code",
   "execution_count": 8,
   "metadata": {
    "collapsed": false
   },
   "outputs": [
    {
     "data": {
      "text/plain": [
       "<matplotlib.text.Text at 0x11946f9d0>"
      ]
     },
     "execution_count": 8,
     "metadata": {},
     "output_type": "execute_result"
    },
    {
     "data": {
      "image/png": "[encoded data removed]",
      "text/plain": [
       "<matplotlib.figure.Figure at 0x10413af90>"
      ]
     },
     "metadata": {},
     "output_type": "display_data"
    }
   ],
   "source": [
    "sns.barplot(x=df['Standing'], y=df['1-0 Wins'], estimator=sum)\n",
    "plt.ylabel('Total 1-0 Wins')\n",
    "plt.xlabel('Overall Standing')\n",
    "plt.title('Number of 1-0 Wins for League Table Place Across the Top 5 Leagues (1993-2014)')"
   ]
  },
  {
   "cell_type": "markdown",
   "metadata": {},
   "source": [
    "This shows a trend that we really expect (and the commentators have taught us so): the top teams tend to have more *1-0 Wins* than others. Yet, what we realize very quickly is that the number of wins is not the most important value to us, but more so, the percent of such wins out of the overall wins, or points (we can try both) that a team accumulates. This truly tell us the value of the grit and *ugly* wins that teams achieve.\n",
    "\n",
    "The number of *1-0 Wins* is a pretty confusing statistic to look at since the top teams will generally have more wins overall, *1-0 Wins* or not."
   ]
  },
  {
   "cell_type": "code",
   "execution_count": 9,
   "metadata": {
    "collapsed": false
   },
   "outputs": [
    {
     "data": {
      "text/plain": [
       "<matplotlib.text.Text at 0x11974ced0>"
      ]
     },
     "execution_count": 9,
     "metadata": {},
     "output_type": "execute_result"
    },
    {
     "data": {
      "image/png": "[encoded data removed]",
      "text/plain": [
       "<matplotlib.figure.Figure at 0x1195e3650>"
      ]
     },
     "metadata": {},
     "output_type": "display_data"
    }
   ],
   "source": [
    "df['1-0 Win Percentage'] = df['1-0 Wins'] * 3.0 / df['Points']\n",
    "sns.barplot(x=df['Standing'], y=df['1-0 Win Percentage'])\n",
    "plt.ylabel('1-0 Win Percentage')\n",
    "plt.xlabel('Overall Standing')\n",
    "plt.title('1-0 Win Percentage for League Table Place Across the Top 5 Leagues (1993-2014)')"
   ]
  },
  {
   "cell_type": "markdown",
   "metadata": {},
   "source": [
    "This visualization tells us a more accurate, but unfortunately, less beautiful result. We can see that there is not much of a correlation between overall league place, and the fraction of *1-0 Wins* a team pulls out over the course of a season. Looking at the correlation value between the two tells us the same again."
   ]
  },
  {
   "cell_type": "code",
   "execution_count": 10,
   "metadata": {
    "collapsed": false
   },
   "outputs": [
    {
     "name": "stdout",
     "output_type": "stream",
     "text": [
      "Correlation Value between Points and % of 1-0 Wins:\t0.08\n"
     ]
    }
   ],
   "source": [
    "standing_win_perc_corr = df['Standing'].corr(df['1-0 Win Percentage'])\n",
    "print('Correlation Value between Points and %% of 1-0 Wins:\\t%.2f' % standing_win_perc_corr)"
   ]
  },
  {
   "cell_type": "markdown",
   "metadata": {},
   "source": [
    "This measly 0.08 is truly a testament to how much *1-0 Wins* really matter to championship and top-level teams.\n",
    "\n",
    "But maybe, it's different for each league? The author of the ESPN FC article mentioned above, Michael Cox, talks about this in reference to the EPL. Let's really push this myth to the test and see the breakdown, league by league, starting off with the EPL."
   ]
  },
  {
   "cell_type": "code",
   "execution_count": 11,
   "metadata": {
    "collapsed": false
   },
   "outputs": [
    {
     "data": {
      "text/html": [
       "<div>\n",
       "<table border=\"1\" class=\"dataframe\">\n",
       "  <thead>\n",
       "    <tr style=\"text-align: right;\">\n",
       "      <th></th>\n",
       "      <th>index</th>\n",
       "      <th>League</th>\n",
       "      <th>Season</th>\n",
       "      <th>Team</th>\n",
       "      <th>Points</th>\n",
       "      <th>Standing</th>\n",
       "      <th>1-0 Wins</th>\n",
       "      <th>1-0 Win Percentage</th>\n",
       "    </tr>\n",
       "  </thead>\n",
       "  <tbody>\n",
       "    <tr>\n",
       "      <th>0</th>\n",
       "      <td>398</td>\n",
       "      <td>england</td>\n",
       "      <td>1993</td>\n",
       "      <td>Oldham</td>\n",
       "      <td>40</td>\n",
       "      <td>21</td>\n",
       "      <td>2</td>\n",
       "      <td>0.150000</td>\n",
       "    </tr>\n",
       "    <tr>\n",
       "      <th>1</th>\n",
       "      <td>399</td>\n",
       "      <td>england</td>\n",
       "      <td>1993</td>\n",
       "      <td>Aston Villa</td>\n",
       "      <td>57</td>\n",
       "      <td>10</td>\n",
       "      <td>6</td>\n",
       "      <td>0.315789</td>\n",
       "    </tr>\n",
       "    <tr>\n",
       "      <th>2</th>\n",
       "      <td>400</td>\n",
       "      <td>england</td>\n",
       "      <td>1993</td>\n",
       "      <td>Ipswich</td>\n",
       "      <td>43</td>\n",
       "      <td>18</td>\n",
       "      <td>5</td>\n",
       "      <td>0.348837</td>\n",
       "    </tr>\n",
       "    <tr>\n",
       "      <th>3</th>\n",
       "      <td>401</td>\n",
       "      <td>england</td>\n",
       "      <td>1993</td>\n",
       "      <td>Wimbledon</td>\n",
       "      <td>65</td>\n",
       "      <td>6</td>\n",
       "      <td>7</td>\n",
       "      <td>0.323077</td>\n",
       "    </tr>\n",
       "    <tr>\n",
       "      <th>4</th>\n",
       "      <td>402</td>\n",
       "      <td>england</td>\n",
       "      <td>1993</td>\n",
       "      <td>Liverpool</td>\n",
       "      <td>60</td>\n",
       "      <td>8</td>\n",
       "      <td>2</td>\n",
       "      <td>0.100000</td>\n",
       "    </tr>\n",
       "  </tbody>\n",
       "</table>\n",
       "</div>"
      ],
      "text/plain": [
       "   index   League  Season         Team  Points  Standing  1-0 Wins  \\\n",
       "0    398  england    1993       Oldham      40        21         2   \n",
       "1    399  england    1993  Aston Villa      57        10         6   \n",
       "2    400  england    1993      Ipswich      43        18         5   \n",
       "3    401  england    1993    Wimbledon      65         6         7   \n",
       "4    402  england    1993    Liverpool      60         8         2   \n",
       "\n",
       "   1-0 Win Percentage  \n",
       "0            0.150000  \n",
       "1            0.315789  \n",
       "2            0.348837  \n",
       "3            0.323077  \n",
       "4            0.100000  "
      ]
     },
     "execution_count": 11,
     "metadata": {},
     "output_type": "execute_result"
    }
   ],
   "source": [
    "# EPL data\n",
    "df_epl = df[df['League'] == 'england'].reset_index()\n",
    "df_epl.head()"
   ]
  },
  {
   "cell_type": "code",
   "execution_count": 12,
   "metadata": {
    "collapsed": false
   },
   "outputs": [
    {
     "data": {
      "text/plain": [
       "<matplotlib.text.Text at 0x11a17c610>"
      ]
     },
     "execution_count": 12,
     "metadata": {},
     "output_type": "execute_result"
    },
    {
     "data": {
      "image/png": "[encoded data removed]",
      "text/plain": [
       "<matplotlib.figure.Figure at 0x1193d1810>"
      ]
     },
     "metadata": {},
     "output_type": "display_data"
    }
   ],
   "source": [
    "sns.barplot(x=df_epl['Standing'], y=df_epl['1-0 Win Percentage'])\n",
    "plt.ylabel('1-0 Win Percentage')\n",
    "plt.xlabel('Overall Standing')\n",
    "plt.title('1-0 Win Percentage for each EPL League Table Place (1993-2014)')"
   ]
  },
  {
   "cell_type": "markdown",
   "metadata": {},
   "source": [
    "Wow, this is more volatile, but we are dealing with fewer matches. What about the correlation value? Is there any change?"
   ]
  },
  {
   "cell_type": "code",
   "execution_count": 13,
   "metadata": {
    "collapsed": false
   },
   "outputs": [
    {
     "name": "stdout",
     "output_type": "stream",
     "text": [
      "EPL Correlation Value between Points and % of 1-0 Wins:\t0.12\n"
     ]
    }
   ],
   "source": [
    "standing_win_perc_corr = df_epl['Standing'].corr(df_epl['1-0 Win Percentage'])\n",
    "print('EPL Correlation Value between Points and %% of 1-0 Wins:\\t%.2f' % standing_win_perc_corr)"
   ]
  },
  {
   "cell_type": "markdown",
   "metadata": {},
   "source": [
    "There's barely a difference. Let's add more matches to our analysis: we're going back to the 60s."
   ]
  },
  {
   "cell_type": "code",
   "execution_count": 14,
   "metadata": {
    "collapsed": false
   },
   "outputs": [
    {
     "data": {
      "text/html": [
       "<div>\n",
       "<table border=\"1\" class=\"dataframe\">\n",
       "  <thead>\n",
       "    <tr style=\"text-align: right;\">\n",
       "      <th></th>\n",
       "      <th>League</th>\n",
       "      <th>Season</th>\n",
       "      <th>Team</th>\n",
       "      <th>Points</th>\n",
       "      <th>Standing</th>\n",
       "      <th>1-0 Wins</th>\n",
       "    </tr>\n",
       "  </thead>\n",
       "  <tbody>\n",
       "    <tr>\n",
       "      <th>0</th>\n",
       "      <td>england</td>\n",
       "      <td>1960</td>\n",
       "      <td>Manchester United</td>\n",
       "      <td>63</td>\n",
       "      <td>6</td>\n",
       "      <td>1</td>\n",
       "    </tr>\n",
       "    <tr>\n",
       "      <th>1</th>\n",
       "      <td>england</td>\n",
       "      <td>1960</td>\n",
       "      <td>West Ham United</td>\n",
       "      <td>49</td>\n",
       "      <td>17</td>\n",
       "      <td>1</td>\n",
       "    </tr>\n",
       "    <tr>\n",
       "      <th>2</th>\n",
       "      <td>england</td>\n",
       "      <td>1960</td>\n",
       "      <td>Burnley</td>\n",
       "      <td>73</td>\n",
       "      <td>4</td>\n",
       "      <td>3</td>\n",
       "    </tr>\n",
       "    <tr>\n",
       "      <th>3</th>\n",
       "      <td>england</td>\n",
       "      <td>1960</td>\n",
       "      <td>Nottingham Forest</td>\n",
       "      <td>51</td>\n",
       "      <td>13</td>\n",
       "      <td>2</td>\n",
       "    </tr>\n",
       "    <tr>\n",
       "      <th>4</th>\n",
       "      <td>england</td>\n",
       "      <td>1960</td>\n",
       "      <td>Aston Villa</td>\n",
       "      <td>60</td>\n",
       "      <td>8</td>\n",
       "      <td>1</td>\n",
       "    </tr>\n",
       "  </tbody>\n",
       "</table>\n",
       "</div>"
      ],
      "text/plain": [
       "    League  Season               Team  Points  Standing  1-0 Wins\n",
       "0  england    1960  Manchester United      63         6         1\n",
       "1  england    1960    West Ham United      49        17         1\n",
       "2  england    1960            Burnley      73         4         3\n",
       "3  england    1960  Nottingham Forest      51        13         2\n",
       "4  england    1960        Aston Villa      60         8         1"
      ]
     },
     "execution_count": 14,
     "metadata": {},
     "output_type": "execute_result"
    }
   ],
   "source": [
    "epl_data = {'england': {year: get_data_frame(str(year), 'england') for year in range(1960, 2014)}}\n",
    "df_old_epl = combine_data_df(epl_data)\n",
    "df_old_epl.head()"
   ]
  },
  {
   "cell_type": "code",
   "execution_count": 15,
   "metadata": {
    "collapsed": false
   },
   "outputs": [
    {
     "data": {
      "text/plain": [
       "<matplotlib.text.Text at 0x11a4f3bd0>"
      ]
     },
     "execution_count": 15,
     "metadata": {},
     "output_type": "execute_result"
    },
    {
     "data": {
      "image/png": "[encoded data removed]",
      "text/plain": [
       "<matplotlib.figure.Figure at 0x11939afd0>"
      ]
     },
     "metadata": {},
     "output_type": "display_data"
    }
   ],
   "source": [
    "df_old_epl['1-0 Win Percentage'] = df_old_epl['1-0 Wins'] * 3.0 / df_old_epl['Points']\n",
    "sns.barplot(x=df_old_epl['Standing'], y=df_old_epl['1-0 Win Percentage'])\n",
    "plt.ylabel('1-0 Win Percentage')\n",
    "plt.xlabel('Overall Standing')\n",
    "plt.title('1-0 Win Percentage for each EPL League Table Place (1960-2014)')"
   ]
  },
  {
   "cell_type": "code",
   "execution_count": 16,
   "metadata": {
    "collapsed": false
   },
   "outputs": [
    {
     "name": "stdout",
     "output_type": "stream",
     "text": [
      "EPL Correlation Value between Points and % of 1-0 Wins:\t0.04\n"
     ]
    }
   ],
   "source": [
    "standing_win_perc_corr_old = df_old_epl['Standing'].corr(df_old_epl['1-0 Win Percentage'])\n",
    "print('EPL Correlation Value between Points and %% of 1-0 Wins:\\t%.2f' % standing_win_perc_corr_old)"
   ]
  },
  {
   "cell_type": "markdown",
   "metadata": {},
   "source": [
    "Ugh, this is even less relevant.\n",
    "\n",
    "But, I have one last experiment that we can try. Let's instead track the highest number of consecutive *1-0 Wins* for each team, in each season. After all, that is truly the context in which Sir Alex Ferguson mentioned the idea of *1-0 Wins*. \n",
    "\n",
    "\"How many times have I said to you about 1-0? What does it mean? It means championship form. I don't mind the 1-0s, I really don't, because it tells you we are determined, we're going to defend, do the right things and play as a team.\" - Sir Alex Ferguson\n",
    "\n"
   ]
  },
  {
   "cell_type": "code",
   "execution_count": 17,
   "metadata": {
    "collapsed": false
   },
   "outputs": [],
   "source": [
    "def one_zero_string(df):\n",
    "    '''\n",
    "    Input: DataFrame for the results of a given season.\n",
    "    Output: 1 dictionary of [Season, Team, # of consecutive 1-0 Wins]\n",
    "    Given a DataFrame filled with all results data, let's calculate the max number of consecutive one_zero wins that\n",
    "    a team achieves.\n",
    "    '''\n",
    "    teams = df['Home'].unique()\n",
    "    consecutive_one_zero_wins = {team: 0 for team in teams}\n",
    "    # We have to calculate this for each team separately\n",
    "    for team in teams[::-1]:\n",
    "        max_wins = 0\n",
    "        df_team = df[(df['Home'] == team) | (df['Away'] == team)].reset_index()\n",
    "        # Now that we're looking only at one specific team, we can continue our calculation\n",
    "        for index, row in df_team.iterrows():\n",
    "            home, away = row['Home'], row['Away']\n",
    "            home_score, away_score = map(int, row['FT'].split('-'))\n",
    "            if home == team and home_score is 1 and away_score is 0:\n",
    "                max_wins += 1\n",
    "            elif away == team and away_score is 1 and home_score is 0:\n",
    "                max_wins += 1\n",
    "            else:\n",
    "                if consecutive_one_zero_wins[team] < max_wins:\n",
    "                    consecutive_one_zero_wins[team] = max_wins\n",
    "                max_wins = 0\n",
    "    return consecutive_one_zero_wins\n",
    "            \n",
    "def combine_data_df(data):\n",
    "    '''\n",
    "    Combine all of the data available to us into a nice and tidy DataFrame\n",
    "    '''\n",
    "    cols = ['League', 'Season', 'Team', 'Points', 'Standing', '1-0 Wins', 'Max Consecutive 1-0 Wins']\n",
    "    df = pd.DataFrame(columns=cols)\n",
    "    # For each country\n",
    "    for country, seasons in data.iteritems():\n",
    "        # For each season\n",
    "        for season, results in seasons.iteritems():\n",
    "            # Get the points and number of one_zero wins each team had per season\n",
    "            points, one_zero_wins = final_points(results)\n",
    "            # Also get the resultant standings\n",
    "            standings = sort_standings(points)\n",
    "            # Also get the max number of consecutive 1-0 wins for each team\n",
    "            consecutive_one_zero_wins = one_zero_string(results)\n",
    "            # Append each row to the overall DataFrame\n",
    "            for team in points:\n",
    "                df = df.append(pd.DataFrame(np.array([[country, season, team, points[team], \n",
    "                                       standings[team], one_zero_wins[team], consecutive_one_zero_wins[team]]]),\n",
    "                                       columns=cols),\n",
    "                               ignore_index=True)\n",
    "    df[['Season', 'Points', 'Standing', '1-0 Wins', 'Max Consecutive 1-0 Wins']] = df[['Season', 'Points', 'Standing', '1-0 Wins', 'Max Consecutive 1-0 Wins']].apply(pd.to_numeric)\n",
    "    return df"
   ]
  },
  {
   "cell_type": "code",
   "execution_count": 18,
   "metadata": {
    "collapsed": false
   },
   "outputs": [
    {
     "data": {
      "text/html": [
       "<div>\n",
       "<table border=\"1\" class=\"dataframe\">\n",
       "  <thead>\n",
       "    <tr style=\"text-align: right;\">\n",
       "      <th></th>\n",
       "      <th>League</th>\n",
       "      <th>Season</th>\n",
       "      <th>Team</th>\n",
       "      <th>Points</th>\n",
       "      <th>Standing</th>\n",
       "      <th>1-0 Wins</th>\n",
       "      <th>Max Consecutive 1-0 Wins</th>\n",
       "    </tr>\n",
       "  </thead>\n",
       "  <tbody>\n",
       "    <tr>\n",
       "      <th>0</th>\n",
       "      <td>england</td>\n",
       "      <td>1960</td>\n",
       "      <td>Manchester United</td>\n",
       "      <td>63</td>\n",
       "      <td>6</td>\n",
       "      <td>1</td>\n",
       "      <td>1</td>\n",
       "    </tr>\n",
       "    <tr>\n",
       "      <th>1</th>\n",
       "      <td>england</td>\n",
       "      <td>1960</td>\n",
       "      <td>West Ham United</td>\n",
       "      <td>49</td>\n",
       "      <td>17</td>\n",
       "      <td>1</td>\n",
       "      <td>1</td>\n",
       "    </tr>\n",
       "    <tr>\n",
       "      <th>2</th>\n",
       "      <td>england</td>\n",
       "      <td>1960</td>\n",
       "      <td>Burnley</td>\n",
       "      <td>73</td>\n",
       "      <td>4</td>\n",
       "      <td>3</td>\n",
       "      <td>1</td>\n",
       "    </tr>\n",
       "    <tr>\n",
       "      <th>3</th>\n",
       "      <td>england</td>\n",
       "      <td>1960</td>\n",
       "      <td>Nottingham Forest</td>\n",
       "      <td>51</td>\n",
       "      <td>13</td>\n",
       "      <td>2</td>\n",
       "      <td>1</td>\n",
       "    </tr>\n",
       "    <tr>\n",
       "      <th>4</th>\n",
       "      <td>england</td>\n",
       "      <td>1960</td>\n",
       "      <td>Aston Villa</td>\n",
       "      <td>60</td>\n",
       "      <td>8</td>\n",
       "      <td>1</td>\n",
       "      <td>1</td>\n",
       "    </tr>\n",
       "  </tbody>\n",
       "</table>\n",
       "</div>"
      ],
      "text/plain": [
       "    League  Season               Team  Points  Standing  1-0 Wins  \\\n",
       "0  england    1960  Manchester United      63         6         1   \n",
       "1  england    1960    West Ham United      49        17         1   \n",
       "2  england    1960            Burnley      73         4         3   \n",
       "3  england    1960  Nottingham Forest      51        13         2   \n",
       "4  england    1960        Aston Villa      60         8         1   \n",
       "\n",
       "   Max Consecutive 1-0 Wins  \n",
       "0                         1  \n",
       "1                         1  \n",
       "2                         1  \n",
       "3                         1  \n",
       "4                         1  "
      ]
     },
     "execution_count": 18,
     "metadata": {},
     "output_type": "execute_result"
    }
   ],
   "source": [
    "# Let's run it now!\n",
    "df_old_epl = combine_data_df(epl_data)\n",
    "df_old_epl.head()"
   ]
  },
  {
   "cell_type": "markdown",
   "metadata": {},
   "source": [
    "Time for the final test."
   ]
  },
  {
   "cell_type": "code",
   "execution_count": 19,
   "metadata": {
    "collapsed": false
   },
   "outputs": [
    {
     "data": {
      "text/plain": [
       "<matplotlib.text.Text at 0x11a9eaf90>"
      ]
     },
     "execution_count": 19,
     "metadata": {},
     "output_type": "execute_result"
    },
    {
     "data": {
      "image/png": "[encoded data removed]",
      "text/plain": [
       "<matplotlib.figure.Figure at 0x1195f6cd0>"
      ]
     },
     "metadata": {},
     "output_type": "display_data"
    }
   ],
   "source": [
    "sns.barplot(x=df_old_epl['Standing'], y=df_old_epl['Max Consecutive 1-0 Wins'])\n",
    "plt.ylabel('Maximum 1-0 Consecutive Wins')\n",
    "plt.xlabel('Overall Standing')\n",
    "plt.title('Maximum 1-0 Consecutive Wins for each EPL League Table Place (1960-2014)')"
   ]
  },
  {
   "cell_type": "markdown",
   "metadata": {},
   "source": [
    "Ohohoho."
   ]
  },
  {
   "cell_type": "code",
   "execution_count": 20,
   "metadata": {
    "collapsed": false
   },
   "outputs": [
    {
     "name": "stdout",
     "output_type": "stream",
     "text": [
      "EPL Correlation Value between Points and Max Number of Consecutive 1-0 Wins:\t0.22\n"
     ]
    }
   ],
   "source": [
    "standing_con_win_corr_old = df_old_epl['Points'].corr(df_old_epl['Max Consecutive 1-0 Wins'])\n",
    "print('EPL Correlation Value between Points and Max Number of Consecutive 1-0 Wins:\\t%.2f' % standing_con_win_corr_old)"
   ]
  },
  {
   "cell_type": "markdown",
   "metadata": {},
   "source": [
    "Eh, this is too small of a correlation value to suggest anything, given that there is confounding taking place regarding the fact that the higher points teams do indeed win more matches. It's pointless. The pundits are wrong. *1-0 Wins* are not really the hallmark of champions at all.\n",
    "\n",
    "I hate to leave you all here, so in the next post, we'll look into determining a measure that really is the hallmark of champions."
   ]
  },
  {
   "cell_type": "code",
   "execution_count": null,
   "metadata": {
    "collapsed": true
   },
   "outputs": [],
   "source": []
  }
 ],
 "metadata": {
  "kernelspec": {
   "display_name": "Python 2",
   "language": "python",
   "name": "python2"
  },
  "language_info": {
   "codemirror_mode": {
    "name": "ipython",
    "version": 2
   },
   "file_extension": ".py",
   "mimetype": "text/x-python",
   "name": "python",
   "nbconvert_exporter": "python",
   "pygments_lexer": "ipython2",
   "version": "2.7.12"
  }
 },
 "nbformat": 4,
 "nbformat_minor": 0
}
