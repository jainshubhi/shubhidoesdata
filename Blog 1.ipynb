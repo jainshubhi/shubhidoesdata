{
 "cells": [
  {
   "cell_type": "code",
   "execution_count": 16,
   "metadata": {
    "collapsed": true
   },
   "outputs": [],
   "source": [
    "import collections\n",
    "import itertools\n",
    "import math\n",
    "\n",
    "import numpy as np\n",
    "import numba\n",
    "import pandas as pd\n",
    "import scipy.stats as st\n",
    "import requests\n",
    "\n",
    "import emcee\n",
    "import corner\n",
    "import bebi103\n",
    "\n",
    "import matplotlib.pyplot as plt\n",
    "import seaborn as sns\n",
    "rc={'lines.linewidth': 2, 'axes.labelsize': 14, 'axes.titlesize': 14}\n",
    "sns.set(rc=rc)\n",
    "%matplotlib inline"
   ]
  },
  {
   "cell_type": "markdown",
   "metadata": {},
   "source": [
    "# Shubhi Does Data: The First Post's First Draft"
   ]
  },
  {
   "cell_type": "markdown",
   "metadata": {},
   "source": [
    "### The Question\n",
    "Are there a dearth of prime-aged, quality center defensive midfielders *(CDM)* in the game right now? Many *CDMs* are young and upcoming (**Emre Can**, **N'golo Kante**, **Casemiro**, **Julian Weigl**, etc.) and many are much older (**Xabi Alonso**, **Yaya Toure**, **Javier Mascherano**, etc.), but from an inuitive standpoint, it feels as if there are very few that are of prime age: between 26 and 30. It's become pretty apparent lately seeing that FC Barcelona, FC Bayern Munich, Manchester United, and others have an arguably shaky defensive midfield. Let's see if we can answer this question across 11 European Leagues (Austrian, Belgian, English, French, German, Italian, Duth, Portuguese, Scottish, Spanish, & Turkish) and maybe even why this is the case if so, with some data."
   ]
  },
  {
   "cell_type": "markdown",
   "metadata": {},
   "source": [
    "### The Approach\n",
    "This is a pretty interesting problem with a lot of components. We'll try to break down each part and answer each one as solidly as possible."
   ]
  },
  {
   "cell_type": "markdown",
   "metadata": {},
   "source": [
    "**1.** What is the age distribution among *CDMs*? We'll use FIFA data to answer this. Ignoring the factor of quality, are there just more younger *CDMs* than prime or older ones? We'll compare this with the age distribution of previous years as a control to see if CDMs now have an unusually small number of `prime` players now, or not. We'll separate the age groups into: \n",
    "\n",
    "  | Group | Ages |\n",
    "  |-------|-------|\n",
    "  | Kids  | < 20 |\n",
    "  | Youth | 20-25 |\n",
    "  | Prime | 26-30 |\n",
    "  | Old   | > 30 |\n",
    "\n",
    "**2.** What defines a quality center defensive midfielder? We'll use FIFA data to determine features to see what characteristics are viewed as valuable for a *CDM*. We can perform correlation analysis on features and the ultimate FIFA rating of players to determine this. From this, we'll use real world data to determine which players really play well as a *CDM* now, and over the years. The reason we use real world data, instead of simply leveraging the FIFA data is that FIFA data doesn't accurately reflect actual gameplay in regards to the current season, instead taking previous seasons and gameplay overall into account. We want to be as accurate as possible when qualifying a player as quality or not. We can then compare this back to the initial age distribution to see how the distribution of quality vs. non-quality players stack up, when compared to age.\n",
    "\n",
    "**3.** Lastly, we'll try to explain any results, if we can."
   ]
  },
  {
   "cell_type": "markdown",
   "metadata": {},
   "source": [
    "#### 1. CDM Age Distribution"
   ]
  },
  {
   "cell_type": "markdown",
   "metadata": {
    "collapsed": true
   },
   "source": [
    "I imported the FIFA *CDM* data via [sofifa.com](http://sofifa.com). I used [import.io](http://import.io) to scrape the data and put it into a tidy csv file."
   ]
  },
  {
   "cell_type": "code",
   "execution_count": 18,
   "metadata": {
    "collapsed": false
   },
   "outputs": [
    {
     "data": {
      "text/html": [
       "<div>\n",
       "<table border=\"1\" class=\"dataframe\">\n",
       "  <thead>\n",
       "    <tr style=\"text-align: right;\">\n",
       "      <th></th>\n",
       "      <th>player_url</th>\n",
       "      <th>age/_source</th>\n",
       "      <th>position/_source</th>\n",
       "      <th>value/_source</th>\n",
       "      <th>position/_text</th>\n",
       "      <th>player_url/_title</th>\n",
       "      <th>player_url/_source</th>\n",
       "      <th>player_url/_text</th>\n",
       "      <th>name</th>\n",
       "      <th>value/_currency</th>\n",
       "      <th>overall</th>\n",
       "      <th>position</th>\n",
       "      <th>value</th>\n",
       "      <th>overall/_source</th>\n",
       "      <th>age</th>\n",
       "      <th>pageUrl</th>\n",
       "    </tr>\n",
       "  </thead>\n",
       "  <tbody>\n",
       "    <tr>\n",
       "      <th>0</th>\n",
       "      <td>http://sofifa.com/player/189511</td>\n",
       "      <td>27</td>\n",
       "      <td>/players?pn=10</td>\n",
       "      <td>€ 41.5</td>\n",
       "      <td>CDM</td>\n",
       "      <td>Sergio Busquets Burgos</td>\n",
       "      <td>/player/189511</td>\n",
       "      <td>Sergio Busquets</td>\n",
       "      <td>Sergio Busquets</td>\n",
       "      <td>EUR</td>\n",
       "      <td>87; 88</td>\n",
       "      <td>http://sofifa.com/players?pn=10</td>\n",
       "      <td>41.5</td>\n",
       "      <td>87; 88</td>\n",
       "      <td>27</td>\n",
       "      <td>http://sofifa.com/players?gender=0&amp;lg%5B0%5D=8...</td>\n",
       "    </tr>\n",
       "    <tr>\n",
       "      <th>1</th>\n",
       "      <td>http://sofifa.com/player/170890</td>\n",
       "      <td>29</td>\n",
       "      <td>/players?pn=10; /players?pn=14</td>\n",
       "      <td>€ 29.5</td>\n",
       "      <td>CDM; CM</td>\n",
       "      <td>Blaise Matuidi</td>\n",
       "      <td>/player/170890</td>\n",
       "      <td>B. Matuidi</td>\n",
       "      <td>B. Matuidi</td>\n",
       "      <td>EUR</td>\n",
       "      <td>86; 86</td>\n",
       "      <td>http://sofifa.com/players?pn=10; http://sofifa...</td>\n",
       "      <td>29.5</td>\n",
       "      <td>86; 86</td>\n",
       "      <td>29</td>\n",
       "      <td>http://sofifa.com/players?gender=0&amp;lg%5B0%5D=8...</td>\n",
       "    </tr>\n",
       "    <tr>\n",
       "      <th>2</th>\n",
       "      <td>http://sofifa.com/player/45197</td>\n",
       "      <td>34</td>\n",
       "      <td>/players?pn=10; /players?pn=14</td>\n",
       "      <td>€ 9</td>\n",
       "      <td>CDM; CM</td>\n",
       "      <td>Xabier Alonso Olano</td>\n",
       "      <td>/player/45197</td>\n",
       "      <td>Xabi Alonso</td>\n",
       "      <td>Xabi Alonso</td>\n",
       "      <td>EUR</td>\n",
       "      <td>84; 84</td>\n",
       "      <td>http://sofifa.com/players?pn=10; http://sofifa...</td>\n",
       "      <td>9.0</td>\n",
       "      <td>84; 84</td>\n",
       "      <td>34</td>\n",
       "      <td>http://sofifa.com/players?gender=0&amp;lg%5B0%5D=8...</td>\n",
       "    </tr>\n",
       "    <tr>\n",
       "      <th>3</th>\n",
       "      <td>http://sofifa.com/player/191202</td>\n",
       "      <td>27</td>\n",
       "      <td>/players?pn=10</td>\n",
       "      <td>€ 24</td>\n",
       "      <td>CDM</td>\n",
       "      <td>Nemanja Matić</td>\n",
       "      <td>/player/191202</td>\n",
       "      <td>N. Matić</td>\n",
       "      <td>N. Matić</td>\n",
       "      <td>EUR</td>\n",
       "      <td>84; 84</td>\n",
       "      <td>http://sofifa.com/players?pn=10</td>\n",
       "      <td>24.0</td>\n",
       "      <td>84; 84</td>\n",
       "      <td>27</td>\n",
       "      <td>http://sofifa.com/players?gender=0&amp;lg%5B0%5D=8...</td>\n",
       "    </tr>\n",
       "    <tr>\n",
       "      <th>4</th>\n",
       "      <td>http://sofifa.com/player/197242</td>\n",
       "      <td>26</td>\n",
       "      <td>/players?pn=10</td>\n",
       "      <td>€ 28.5</td>\n",
       "      <td>CDM</td>\n",
       "      <td>Grzegorz Krychowiak</td>\n",
       "      <td>/player/197242</td>\n",
       "      <td>G. Krychowiak</td>\n",
       "      <td>G. Krychowiak</td>\n",
       "      <td>EUR</td>\n",
       "      <td>84; 86</td>\n",
       "      <td>http://sofifa.com/players?pn=10</td>\n",
       "      <td>28.5</td>\n",
       "      <td>84; 86</td>\n",
       "      <td>26</td>\n",
       "      <td>http://sofifa.com/players?gender=0&amp;lg%5B0%5D=8...</td>\n",
       "    </tr>\n",
       "  </tbody>\n",
       "</table>\n",
       "</div>"
      ],
      "text/plain": [
       "                        player_url  age/_source  \\\n",
       "0  http://sofifa.com/player/189511           27   \n",
       "1  http://sofifa.com/player/170890           29   \n",
       "2   http://sofifa.com/player/45197           34   \n",
       "3  http://sofifa.com/player/191202           27   \n",
       "4  http://sofifa.com/player/197242           26   \n",
       "\n",
       "                 position/_source value/_source position/_text  \\\n",
       "0                  /players?pn=10        € 41.5            CDM   \n",
       "1  /players?pn=10; /players?pn=14        € 29.5        CDM; CM   \n",
       "2  /players?pn=10; /players?pn=14           € 9        CDM; CM   \n",
       "3                  /players?pn=10          € 24            CDM   \n",
       "4                  /players?pn=10        € 28.5            CDM   \n",
       "\n",
       "        player_url/_title player_url/_source player_url/_text  \\\n",
       "0  Sergio Busquets Burgos     /player/189511  Sergio Busquets   \n",
       "1          Blaise Matuidi     /player/170890       B. Matuidi   \n",
       "2     Xabier Alonso Olano      /player/45197      Xabi Alonso   \n",
       "3           Nemanja Matić     /player/191202         N. Matić   \n",
       "4     Grzegorz Krychowiak     /player/197242    G. Krychowiak   \n",
       "\n",
       "              name value/_currency overall  \\\n",
       "0  Sergio Busquets             EUR  87; 88   \n",
       "1       B. Matuidi             EUR  86; 86   \n",
       "2      Xabi Alonso             EUR  84; 84   \n",
       "3         N. Matić             EUR  84; 84   \n",
       "4    G. Krychowiak             EUR  84; 86   \n",
       "\n",
       "                                            position  value overall/_source  \\\n",
       "0                    http://sofifa.com/players?pn=10   41.5          87; 88   \n",
       "1  http://sofifa.com/players?pn=10; http://sofifa...   29.5          86; 86   \n",
       "2  http://sofifa.com/players?pn=10; http://sofifa...    9.0          84; 84   \n",
       "3                    http://sofifa.com/players?pn=10   24.0          84; 84   \n",
       "4                    http://sofifa.com/players?pn=10   28.5          84; 86   \n",
       "\n",
       "   age                                            pageUrl  \n",
       "0   27  http://sofifa.com/players?gender=0&lg%5B0%5D=8...  \n",
       "1   29  http://sofifa.com/players?gender=0&lg%5B0%5D=8...  \n",
       "2   34  http://sofifa.com/players?gender=0&lg%5B0%5D=8...  \n",
       "3   27  http://sofifa.com/players?gender=0&lg%5B0%5D=8...  \n",
       "4   26  http://sofifa.com/players?gender=0&lg%5B0%5D=8...  "
      ]
     },
     "execution_count": 18,
     "metadata": {},
     "output_type": "execute_result"
    }
   ],
   "source": [
    "# Import data\n",
    "df_fifa_cdm = pd.read_csv('data/fifa_17_cdm_data.csv')\n",
    "df_fifa_cdm.head()"
   ]
  },
  {
   "cell_type": "markdown",
   "metadata": {},
   "source": [
    "Well, I thought the data was already tidy, but looking at it again, it doesn't seem to be. We have a lot of unnecessary columns. Let's go ahead and tidy it up."
   ]
  },
  {
   "cell_type": "code",
   "execution_count": 19,
   "metadata": {
    "collapsed": false
   },
   "outputs": [
    {
     "data": {
      "text/html": [
       "<div>\n",
       "<table border=\"1\" class=\"dataframe\">\n",
       "  <thead>\n",
       "    <tr style=\"text-align: right;\">\n",
       "      <th></th>\n",
       "      <th>player_url</th>\n",
       "      <th>age</th>\n",
       "      <th>positions</th>\n",
       "      <th>player_name</th>\n",
       "      <th>overall_rating</th>\n",
       "      <th>value</th>\n",
       "      <th>page_url</th>\n",
       "    </tr>\n",
       "  </thead>\n",
       "  <tbody>\n",
       "    <tr>\n",
       "      <th>0</th>\n",
       "      <td>http://sofifa.com/player/189511</td>\n",
       "      <td>27</td>\n",
       "      <td>CDM</td>\n",
       "      <td>Sergio Busquets Burgos</td>\n",
       "      <td>87; 88</td>\n",
       "      <td>41.5</td>\n",
       "      <td>http://sofifa.com/players?gender=0&amp;lg%5B0%5D=8...</td>\n",
       "    </tr>\n",
       "    <tr>\n",
       "      <th>1</th>\n",
       "      <td>http://sofifa.com/player/170890</td>\n",
       "      <td>29</td>\n",
       "      <td>CDM; CM</td>\n",
       "      <td>Blaise Matuidi</td>\n",
       "      <td>86; 86</td>\n",
       "      <td>29.5</td>\n",
       "      <td>http://sofifa.com/players?gender=0&amp;lg%5B0%5D=8...</td>\n",
       "    </tr>\n",
       "    <tr>\n",
       "      <th>2</th>\n",
       "      <td>http://sofifa.com/player/45197</td>\n",
       "      <td>34</td>\n",
       "      <td>CDM; CM</td>\n",
       "      <td>Xabier Alonso Olano</td>\n",
       "      <td>84; 84</td>\n",
       "      <td>9.0</td>\n",
       "      <td>http://sofifa.com/players?gender=0&amp;lg%5B0%5D=8...</td>\n",
       "    </tr>\n",
       "    <tr>\n",
       "      <th>3</th>\n",
       "      <td>http://sofifa.com/player/191202</td>\n",
       "      <td>27</td>\n",
       "      <td>CDM</td>\n",
       "      <td>Nemanja Matić</td>\n",
       "      <td>84; 84</td>\n",
       "      <td>24.0</td>\n",
       "      <td>http://sofifa.com/players?gender=0&amp;lg%5B0%5D=8...</td>\n",
       "    </tr>\n",
       "    <tr>\n",
       "      <th>4</th>\n",
       "      <td>http://sofifa.com/player/197242</td>\n",
       "      <td>26</td>\n",
       "      <td>CDM</td>\n",
       "      <td>Grzegorz Krychowiak</td>\n",
       "      <td>84; 86</td>\n",
       "      <td>28.5</td>\n",
       "      <td>http://sofifa.com/players?gender=0&amp;lg%5B0%5D=8...</td>\n",
       "    </tr>\n",
       "  </tbody>\n",
       "</table>\n",
       "</div>"
      ],
      "text/plain": [
       "                        player_url  age positions             player_name  \\\n",
       "0  http://sofifa.com/player/189511   27       CDM  Sergio Busquets Burgos   \n",
       "1  http://sofifa.com/player/170890   29   CDM; CM          Blaise Matuidi   \n",
       "2   http://sofifa.com/player/45197   34   CDM; CM     Xabier Alonso Olano   \n",
       "3  http://sofifa.com/player/191202   27       CDM           Nemanja Matić   \n",
       "4  http://sofifa.com/player/197242   26       CDM     Grzegorz Krychowiak   \n",
       "\n",
       "  overall_rating  value                                           page_url  \n",
       "0         87; 88   41.5  http://sofifa.com/players?gender=0&lg%5B0%5D=8...  \n",
       "1         86; 86   29.5  http://sofifa.com/players?gender=0&lg%5B0%5D=8...  \n",
       "2         84; 84    9.0  http://sofifa.com/players?gender=0&lg%5B0%5D=8...  \n",
       "3         84; 84   24.0  http://sofifa.com/players?gender=0&lg%5B0%5D=8...  \n",
       "4         84; 86   28.5  http://sofifa.com/players?gender=0&lg%5B0%5D=8...  "
      ]
     },
     "execution_count": 19,
     "metadata": {},
     "output_type": "execute_result"
    }
   ],
   "source": [
    "# Let's first label the columns.\n",
    "df_fifa_cdm.columns = ['player_url', 'age', 'position_url', 'value_euros', 'positions', 'player_name',\n",
    "                       'player_source', 'player_url_text', 'name', 'currency', 'overall_rating',\n",
    "                       'full_position_url', 'value', 'overall_again', 'age_again', 'page_url']\n",
    "# And then we can drop the unnecessary columns.\n",
    "df_fifa_cdm = df_fifa_cdm.drop(['position_url', 'value_euros', 'player_url_text', 'player_source',\n",
    "                                'name','currency', 'overall_again', ''\n",
    "                                'full_position_url', 'age_again'], axis=1)\n",
    "df_fifa_cdm.head()"
   ]
  },
  {
   "cell_type": "code",
   "execution_count": 36,
   "metadata": {
    "collapsed": false
   },
   "outputs": [
    {
     "data": {
      "text/plain": [
       "<matplotlib.text.Text at 0x11f07b510>"
      ]
     },
     "execution_count": 36,
     "metadata": {},
     "output_type": "execute_result"
    },
    {
     "data": {
      "image/png": "[encoded data removed]",
      "text/plain": [
       "<matplotlib.figure.Figure at 0x11ef91ed0>"
      ]
     },
     "metadata": {},
     "output_type": "display_data"
    }
   ],
   "source": [
    "# Ah, much tidier to deal with. Let's plot the age distribution for these CDMs\n",
    "sns.distplot(df_fifa_cdm['age'], kde=False, bins=max(df_fifa_cdm['age']) - min(df_fifa_cdm['age']), axlabel=\"Age\")\n",
    "plt.title(\"Distribution of Central Defensive Midfielders across the Top 11 Leagues\")\n",
    "plt.ylabel(\"Count\")"
   ]
  },
  {
   "cell_type": "markdown",
   "metadata": {},
   "source": [
    "This distribution tells us that a decent number of *CDMs* are kids or youth, but there is no signifcant drop off after the young age group, as we intuitively assumed. This makes answering our overall question a little easier. Still, we have to remember that we're thinking about this question about lack of prime, quality *CDMs*. In this scenario, the qualifier \"lack\" is relative. Therefore, we have to compare this to what the distribution looks like compared to previous years.\n",
    "\n",
    "Another thing to note overall is this seems to be a a relatively normal distribution with a slight tail in the older players.\n",
    "\n",
    "Before we start looking at the distribution of previous years, I also want to take a look at the distribution amongst the age groups we defined above. As a reminder, here they are again:\n",
    "\n",
    "  | Group | Ages |\n",
    "  |-------|-------|\n",
    "  | Kids  | < 20 |\n",
    "  | Youth | 20-25 |\n",
    "  | Prime | 26-30 |\n",
    "  | Old   | > 30 |\n"
   ]
  },
  {
   "cell_type": "code",
   "execution_count": 38,
   "metadata": {
    "collapsed": false
   },
   "outputs": [
    {
     "data": {
      "text/plain": [
       "<matplotlib.text.Text at 0x11f6db110>"
      ]
     },
     "execution_count": 38,
     "metadata": {},
     "output_type": "execute_result"
    },
    {
     "data": {
      "image/png": "[encoded data removed]",
      "text/plain": [
       "<matplotlib.figure.Figure at 0x11eeb8cd0>"
      ]
     },
     "metadata": {},
     "output_type": "display_data"
    }
   ],
   "source": [
    "sns.distplot(df_fifa_cdm['age'], kde=False, bins=[19, 20, 25, 30, 39], axlabel=\"Age\")\n",
    "plt.ylabel(\"Count\")\n",
    "plt.title(\"Age Breakdown of Central Defensive Midfielders across the Top 11 Leagues\")"
   ]
  },
  {
   "cell_type": "markdown",
   "metadata": {},
   "source": [
    "From this 4-bin histogram, we can see pretty clearly that there most definitely isn't a lack of center defensive midfielders in this `prime` age group. Now that we've looked at the age distribution for *CDMs* now, let's look at previous years and see if a trend follows. We'll go back 10 seasons to see this age distribution trend."
   ]
  },
  {
   "cell_type": "code",
   "execution_count": 45,
   "metadata": {
    "collapsed": false
   },
   "outputs": [],
   "source": [
    "# Let's clean up all of the data for all of the years of FIFA data that we have.\n",
    "\n",
    "# First define the filenames\n",
    "filenames = ['data/fifa_16_cdm_data.csv', 'data/fifa_15_cdm_data.csv', 'data/fifa_14_cdm_data.csv',\n",
    "             'data/fifa_13_cdm_data.csv', 'data/fifa_12_cdm_data.csv', 'data/fifa_11_cdm_data.csv',\n",
    "             'data/fifa_10_cdm_data.csv', 'data/fifa_09_cdm_data.csv', 'data/fifa_08_cdm_data.csv',\n",
    "             'data/fifa_07_cdm_data.csv']\n",
    "\n",
    "# Import all years\n",
    "df_fifa_yr_cdms = [pd.read_csv(f) for f in filenames]\n",
    "\n",
    "# Clean up columns for all years\n",
    "for df in df_fifa_yr_cdms:\n",
    "    df.columns = ['player_url', 'age', 'position_url', 'value_euros', 'positions', 'player_name',\n",
    "                       'player_source', 'player_url_text', 'name', 'currency', 'overall_rating',\n",
    "                       'full_position_url', 'value', 'overall_again', 'age_again', 'page_url']\n",
    "    # And then we can drop the unnecessary columns.\n",
    "    df.drop(['position_url', 'value_euros', 'player_url_text', 'player_source',\n",
    "             'name','currency', 'overall_again', ''\n",
    "             'full_position_url', 'age_again'], axis=1, inplace=True)\n",
    "\n",
    "# Insert FIFA 17 data\n",
    "df_fifa_yr_cdms = [df_fifa_cdm] + df_fifa_yr_cdms"
   ]
  },
  {
   "cell_type": "markdown",
   "metadata": {},
   "source": [
    "I think the best way to view the variation of age group distribution over time is via a line graph. It will allow us to see the breakdown in terms of the 4 age groups."
   ]
  },
  {
   "cell_type": "code",
   "execution_count": 51,
   "metadata": {
    "collapsed": false
   },
   "outputs": [],
   "source": [
    "def age_distribution(age):\n",
    "    '''\n",
    "    Return age distribution for four age groups, normalized by number of players in that position.\n",
    "    '''\n",
    "    kids = len(filter(lambda val: val < 20, age))\n",
    "    young = len(filter(lambda val: val < 26 and val > 20, age))\n",
    "    prime = len(filter(lambda val: val < 31 and val > 25, age))\n",
    "    old = len(filter(lambda val: val > 30, age))\n",
    "    count = float(len(age))\n",
    "    return np.array([kids/count, young/count, prime/count, old/count])"
   ]
  },
  {
   "cell_type": "code",
   "execution_count": 63,
   "metadata": {
    "collapsed": false
   },
   "outputs": [
    {
     "data": {
      "text/plain": [
       "<matplotlib.legend.Legend at 0x11fc72150>"
      ]
     },
     "execution_count": 63,
     "metadata": {},
     "output_type": "execute_result"
    },
    {
     "data": {
      "image/png": "[encoded data removed]",
      "text/plain": [
       "<matplotlib.figure.Figure at 0x1222edc90>"
      ]
     },
     "metadata": {},
     "output_type": "display_data"
    }
   ],
   "source": [
    "age_distribution_over_time = np.array([age_distribution(df['age']) for df in df_fifa_yr_cdms])\n",
    "plt.plot(range(2007, 2018), age_distribution_over_time)\n",
    "plt.title('Age Distribution of Center Defensive Midfielders Over Time')\n",
    "plt.xlabel('Year')\n",
    "plt.ylabel('Normalized Percentage')\n",
    "plt.legend(('kids < 20', 'young 20-25', 'prime 26-39', 'old > 30'), loc='center right')"
   ]
  },
  {
   "cell_type": "markdown",
   "metadata": {},
   "source": [
    "This graph tells us some really interesting info about the age distribution. We see that there are a great deal of \"young\" *CDMs* from 2007 to 2013, but actually most recently, the "
   ]
  }
 ],
 "metadata": {
  "kernelspec": {
   "display_name": "Python 2",
   "language": "python",
   "name": "python2"
  },
  "language_info": {
   "codemirror_mode": {
    "name": "ipython",
    "version": 2
   },
   "file_extension": ".py",
   "mimetype": "text/x-python",
   "name": "python",
   "nbconvert_exporter": "python",
   "pygments_lexer": "ipython2",
   "version": "2.7.12"
  }
 },
 "nbformat": 4,
 "nbformat_minor": 0
}
